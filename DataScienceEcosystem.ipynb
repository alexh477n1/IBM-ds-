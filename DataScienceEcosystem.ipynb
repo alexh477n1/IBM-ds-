{
 "cells": [
  {
   "cell_type": "markdown",
   "id": "25ae612a-feb6-45b7-a679-301552ba1d72",
   "metadata": {},
   "source": [
    "# Data Sience Tools and Ecosystem"
   ]
  },
  {
   "cell_type": "markdown",
   "id": "a68104c8-98fd-4b08-80a3-79ebf6803c2f",
   "metadata": {},
   "source": [
    "In this notebook, we summarise Data Science Tools and Ecosystem"
   ]
  },
  {
   "cell_type": "markdown",
   "id": "a3cd63e5-ebad-4222-8115-65f7bc49d069",
   "metadata": {},
   "source": [
    "**Objectives:** "
   ]
  },
  {
   "cell_type": "markdown",
   "id": "f7d4c38e-a6d4-4c0d-9e12-8fd1c84d73a3",
   "metadata": {},
   "source": [
    "- Get to know the basic languages used in data science\n",
    "- Familiarise yourself with the libraries and tools used\n",
    "- Break down how we do maths operations in python"
   ]
  },
  {
   "cell_type": "markdown",
   "id": "ac49d02c-3ef4-41a5-be52-6cf2a5492cf7",
   "metadata": {},
   "source": [
    "Some of the most popular languages data scientists use are:"
   ]
  },
  {
   "cell_type": "markdown",
   "id": "e5248da4-f3e2-4331-ac6f-5ff934b18eda",
   "metadata": {},
   "source": [
    "1. Python\n",
    "2. R\n",
    "3. SQL"
   ]
  },
  {
   "cell_type": "markdown",
   "id": "84a1a63b-4cc9-4023-9f13-b1b0143cae05",
   "metadata": {},
   "source": [
    "Some of the commonly used libraries used by data scientists include:\n",
    "1. Pandas\n",
    "2. NumPy\n",
    "3. TensorFlow"
   ]
  },
  {
   "cell_type": "markdown",
   "id": "1ad2c182-92b3-43aa-9052-56d69984b61a",
   "metadata": {},
   "source": [
    "| Data Science Tools |\n",
    "| ------------------ |\n",
    "| Jupyter Notebook |\n",
    "| VS Code |\n",
    "| R | "
   ]
  },
  {
   "cell_type": "markdown",
   "id": "5cce29d5-25b2-43f2-bbaa-d9c1693fa930",
   "metadata": {},
   "source": [
    "### Below are a few exmaples of doing maths in python"
   ]
  },
  {
   "cell_type": "code",
   "execution_count": 7,
   "id": "b59d97b9-20fc-4c3b-86be-bd853e4f1314",
   "metadata": {},
   "outputs": [],
   "source": [
    "# This is a simple arithmetic expression to multiply then add integers"
   ]
  },
  {
   "cell_type": "code",
   "execution_count": 6,
   "id": "eb393798-7211-46a6-922e-bed4d3686dc1",
   "metadata": {},
   "outputs": [
    {
     "data": {
      "text/plain": [
       "17"
      ]
     },
     "execution_count": 6,
     "metadata": {},
     "output_type": "execute_result"
    }
   ],
   "source": [
    "(3*4)+5"
   ]
  },
  {
   "cell_type": "code",
   "execution_count": 8,
   "id": "cc6cfd09-0577-4b9d-9d10-e68bf616a2c6",
   "metadata": {},
   "outputs": [
    {
     "data": {
      "text/plain": [
       "3.3333333333333335"
      ]
     },
     "execution_count": 8,
     "metadata": {},
     "output_type": "execute_result"
    }
   ],
   "source": [
    "200/60\n",
    "# This will convert 200 minutes into hours by diivding by 60"
   ]
  },
  {
   "cell_type": "code",
   "execution_count": null,
   "id": "f910e8cf-effb-40bc-a53c-46574ae0f099",
   "metadata": {},
   "outputs": [],
   "source": []
  },
  {
   "cell_type": "markdown",
   "id": "3dbb3f9d-8a99-4e7c-a16b-e60e74d70197",
   "metadata": {},
   "source": [
    "## Author\n",
    "Alex"
   ]
  },
  {
   "cell_type": "code",
   "execution_count": null,
   "id": "d1dd6b64-e590-4116-acf2-a8b8e128af8d",
   "metadata": {},
   "outputs": [],
   "source": []
  }
 ],
 "metadata": {
  "kernelspec": {
   "display_name": "Python 3 (ipykernel)",
   "language": "python",
   "name": "python3"
  },
  "language_info": {
   "codemirror_mode": {
    "name": "ipython",
    "version": 3
   },
   "file_extension": ".py",
   "mimetype": "text/x-python",
   "name": "python",
   "nbconvert_exporter": "python",
   "pygments_lexer": "ipython3",
   "version": "3.13.1"
  }
 },
 "nbformat": 4,
 "nbformat_minor": 5
}
